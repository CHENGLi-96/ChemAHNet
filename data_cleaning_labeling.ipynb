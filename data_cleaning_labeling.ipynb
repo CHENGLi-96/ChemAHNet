{
 "cells": [
  {
   "cell_type": "markdown",
   "id": "7b78a351",
   "metadata": {},
   "source": [
    "<p style=\"font-family: Monospace; font-size: 20px; color: black;\">\n",
    "    This script processes a CSV file containing SMILES strings, normalizes them into their canonical form using a cheminformatics library (e.g., RDKit), removes invalid or erroneous records, and saves the cleaned and standardized results to a new CSV file for further use in molecular analysis or machine learning tasks.\n",
    "</p>\n"
   ]
  },
  {
   "cell_type": "markdown",
   "id": "bda30bdd",
   "metadata": {},
   "source": [
    "<p style=\"font-family: Monospace; font-size: 20px; color: black;\">\n",
    "    1.1 SMILES Standardization\n",
    "</p>"
   ]
  },
  {
   "cell_type": "code",
   "execution_count": 10,
   "id": "ae864a48",
   "metadata": {
    "scrolled": true
   },
   "outputs": [
    {
     "name": "stdout",
     "output_type": "stream",
     "text": [
      "规范化后的 SMILES:\n",
      "O=C(/C=C1/CCc2ccccc2N1)c1ccccc1\n",
      "O=C(/C=C1/CCc2ccccc2N1)c1ccccc1\n",
      "O=C(/C=C1/CCc2ccccc2N1)c1ccccc1\n"
     ]
    }
   ],
   "source": [
    "import pandas as pd\n",
    "from rdkit import Chem\n",
    "\n",
    "# Read the input CSV file\n",
    "input_file = \"input_smiles.csv\"  # Path to the input CSV file\n",
    "output_file = \"canonical_smiles_output.csv\"  # Path to the output CSV file\n",
    "smiles_column = \"SMILES\"  # Name of the column containing SMILES strings\n",
    "\n",
    "# Load the CSV file into a DataFrame\n",
    "df = pd.read_csv(input_file)\n",
    "\n",
    "# Check if the specified SMILES column exists in the DataFrame\n",
    "if smiles_column not in df.columns:\n",
    "    raise ValueError(f\"Column '{smiles_column}' not found in the CSV file.\")\n",
    "\n",
    "# List to store canonical SMILES\n",
    "canonical_smiles_list = []\n",
    "\n",
    "# Process each SMILES string in the specified column\n",
    "for smile in df[smiles_column]:\n",
    "    try:\n",
    "        # Convert the SMILES string to an RDKit molecule object\n",
    "        mol = Chem.MolFromSmiles(smile)\n",
    "        if mol is not None:\n",
    "            # Generate the canonical SMILES representation\n",
    "            canonical_smiles = Chem.MolToSmiles(mol, canonical=True)\n",
    "            canonical_smiles_list.append(canonical_smiles)\n",
    "        else:\n",
    "            # Handle invalid SMILES\n",
    "            print(f\"Invalid SMILES: {smile}\")\n",
    "            canonical_smiles_list.append(None)  # Use None as a placeholder for invalid SMILES\n",
    "    except Exception as e:\n",
    "        # Handle any unexpected errors during processing\n",
    "        print(f\"Error processing SMILES: {smile}, Error: {e}\")\n",
    "        canonical_smiles_list.append(None)  # Use None as a placeholder for errors\n",
    "\n",
    "# Add the canonical SMILES as a new column in the DataFrame\n",
    "df[\"Canonical_SMILES\"] = canonical_smiles_list\n",
    "\n",
    "# Save the updated DataFrame to a new CSV file\n",
    "df.to_csv(output_file, index=False)\n",
    "\n",
    "print(f\"Canonical SMILES have been saved to: {output_file}\")\n"
   ]
  },
  {
   "cell_type": "markdown",
   "id": "ee03b42c",
   "metadata": {},
   "source": [
    "<p style=\"font-family: Monospace; font-size: 20px; color: black;\">\n",
    "    1.2 Data Cleaning for Identical Reactant-Product Records\n",
    "</p>"
   ]
  },
  {
   "cell_type": "code",
   "execution_count": 11,
   "id": "9368ad46",
   "metadata": {},
   "outputs": [
    {
     "name": "stdout",
     "output_type": "stream",
     "text": [
      "Records where Reactant SMILES and Product SMILES are identical have been saved to 'same_reactant_product_records.csv'.\n"
     ]
    }
   ],
   "source": [
    "import pandas as pd\n",
    "\n",
    "# Load the CSV file\n",
    "df = pd.read_csv('aho_dataset.csv')\n",
    "\n",
    "# Check if Reactant SMILES and Product SMILES are identical\n",
    "same_records = df[df['Reactant SMILES'] == df['Product SMILES']]\n",
    "\n",
    "# Save these identical records to a new CSV file\n",
    "same_records.to_csv('same_reactant_product_records.csv', index=False)\n",
    "\n",
    "# Remove records where Reactant SMILES and Product SMILES are identical\n",
    "df_filtered = df[df['Reactant SMILES'] != df['Product SMILES']]\n",
    "\n",
    "# Save the filtered DataFrame to a new CSV file\n",
    "df_filtered.to_csv('filtered_aho_dataset.csv', index=False)\n",
    "\n",
    "print(\"Records where Reactant SMILES and Product SMILES are identical have been saved to 'same_reactant_product_records.csv'.\")\n",
    "print(\"Records where Reactant SMILES and Product SMILES are identical have been removed and saved to 'filtered_aho_dataset.csv'.\")\n"
   ]
  },
  {
   "cell_type": "markdown",
   "id": "501a7c9d",
   "metadata": {},
   "source": [
    "<p style=\"font-family: Monospace; font-size: 20px; color: black;\">\n",
    "    1.3 Data cleaning for records of lost stereochemical information of products \n",
    "</p>"
   ]
  },
  {
   "cell_type": "code",
   "execution_count": null,
   "id": "b34551ab",
   "metadata": {},
   "outputs": [],
   "source": [
    "# Identify chirality\n",
    "from rdkit import Chem\n",
    "\n",
    "file_path = 'train_output_file.csv'  # Replace with your CSV file path\n",
    "df = pd.read_csv(file_path)\n",
    "\n",
    "# Function to identify chiral centers in a molecule\n",
    "def identify_chiral_centers(smiles):\n",
    "    mol = Chem.MolFromSmiles(smiles)\n",
    "    chiral_centers = Chem.FindMolChiralCenters(mol, includeUnassigned=True)\n",
    "    result = ','.join(map(str, chiral_centers))\n",
    "    return result\n",
    "\n",
    "# Function to process and apply chirality identification for the 'Target_pred' column\n",
    "def process_and_apply(row):\n",
    "    try:\n",
    "        column1_value = row['Target_pred']\n",
    "        result = identify_chiral_centers(column1_value)\n",
    "        return result\n",
    "    except Exception as e:\n",
    "        return 'False'\n",
    "\n",
    "# Function to process and apply chirality identification for the 'Product SMILES' column\n",
    "def TARGET_and_apply(row):\n",
    "    try:\n",
    "        column2_value = row['Product SMILES']\n",
    "        result = identify_chiral_centers(column2_value)\n",
    "        return result\n",
    "    except Exception as e:\n",
    "        return 'False'\n",
    "\n",
    "# Apply the functions to the DataFrame and create new columns\n",
    "df['Pred'] = df.apply(lambda row: process_and_apply(row), axis=1)\n",
    "df['TARGET'] = df.apply(lambda row: TARGET_and_apply(row), axis=1)\n",
    "\n",
    "# Save the results to a new CSV file\n",
    "output_file_path = 'train_output_file.csv'  # Replace with your desired output file path\n",
    "df.to_csv(output_file_path, index=False)\n",
    "\n",
    "print(f\"Processing completed. Results have been saved to {output_file_path}\")"
   ]
  },
  {
   "cell_type": "code",
   "execution_count": null,
   "id": "6406babe",
   "metadata": {},
   "outputs": [],
   "source": [
    "# Remove missing values\n",
    "import pandas as pd\n",
    "\n",
    "# Open the CSV file\n",
    "file_path = 'train_output_file.csv'  # Replace with your CSV file path\n",
    "df = pd.read_csv(file_path)\n",
    "\n",
    "# Drop rows where the 'TARGET' column is empty\n",
    "df = df.dropna(subset=['TARGET'])\n",
    "\n",
    "# Drop rows where the 'TARGET' column contains \"?\"\n",
    "df = df[~df['TARGET'].str.contains('\\?', regex=True)]\n",
    "\n",
    "# Save the results to a new CSV file\n",
    "output_file_path = 'train_last.csv'  # Replace with your desired output file path\n",
    "df.to_csv(output_file_path, index=False)\n",
    "\n",
    "print(f\"Processing completed. Results have been saved to {output_file_path}\")"
   ]
  },
  {
   "cell_type": "markdown",
   "id": "5a13802e",
   "metadata": {},
   "source": [
    "<p style=\"font-family: Monospace; font-size: 20px; color: black;\">\n",
    "    1.4 Keep only one C=C double bond\n",
    "</p>"
   ]
  },
  {
   "cell_type": "code",
   "execution_count": null,
   "id": "6aa7498e",
   "metadata": {},
   "outputs": [],
   "source": [
    "# Keep only one C=C double bond\n",
    "import pandas as pd\n",
    "from rdkit import Chem\n",
    "\n",
    "# Open the CSV file\n",
    "file_path = 'train_output_file.csv'  # Replace with your CSV file path\n",
    "df = pd.read_csv(file_path)\n",
    "\n",
    "# Define a function to count the number of C=C double bonds\n",
    "def count_c_c_double_bonds(smiles):\n",
    "    mol = Chem.MolFromSmiles(smiles)\n",
    "    if mol is None:\n",
    "        return 0  # Return 0 if the SMILES is invalid\n",
    "    count = 0\n",
    "    for bond in mol.GetBonds():\n",
    "        if bond.GetBondType() == Chem.rdchem.BondType.DOUBLE:\n",
    "            atom1 = bond.GetBeginAtom()\n",
    "            atom2 = bond.GetEndAtom()\n",
    "            if atom1.GetAtomicNum() == 6 and atom2.GetAtomicNum() == 6:  # Ensure it's a C=C double bond\n",
    "                count += 1\n",
    "    return count\n",
    "\n",
    "# Calculate the number of C=C double bonds for each row\n",
    "df['C_C_Double_Bonds'] = df['Reactant SMILES'].apply(count_c_c_double_bonds)\n",
    "\n",
    "# Remove rows where the number of C=C double bonds is greater than 1\n",
    "df_filtered = df[df['C_C_Double_Bonds'] <= 1]\n",
    "\n",
    "# Drop the auxiliary column and save the results to a new CSV file\n",
    "df_filtered = df_filtered.drop(columns=['C_C_Double_Bonds'])\n",
    "output_file_path = 'train_output_file.csv'  # Replace with your desired output file path\n",
    "df_filtered.to_csv(output_file_path, index=False)\n",
    "\n",
    "print(f\"Processing completed. Results have been saved to {output_file_path}\")"
   ]
  }
 ],
 "metadata": {
  "kernelspec": {
   "display_name": "leash",
   "language": "python",
   "name": "python3"
  },
  "language_info": {
   "codemirror_mode": {
    "name": "ipython",
    "version": 3
   },
   "file_extension": ".py",
   "mimetype": "text/x-python",
   "name": "python",
   "nbconvert_exporter": "python",
   "pygments_lexer": "ipython3",
   "version": "3.9.19"
  }
 },
 "nbformat": 4,
 "nbformat_minor": 5
}
